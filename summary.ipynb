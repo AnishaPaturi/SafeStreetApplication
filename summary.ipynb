{
 "cells": [
  {
   "cell_type": "markdown",
   "id": "a357aa17",
   "metadata": {},
   "source": [
    "Run all this in colab "
   ]
  },
  {
   "cell_type": "code",
   "execution_count": null,
   "id": "62796546",
   "metadata": {
    "vscode": {
     "languageId": "plaintext"
    }
   },
   "outputs": [],
   "source": [
    "!pip install flask ngrok transformers torch pillow"
   ]
  },
  {
   "cell_type": "code",
   "execution_count": null,
   "id": "b3e2cfad",
   "metadata": {
    "vscode": {
     "languageId": "plaintext"
    }
   },
   "outputs": [],
   "source": [
    "%%writefile app.py\n",
    "from flask import Flask, request, jsonify\n",
    "from PIL import Image\n",
    "import torch\n",
    "from transformers import Blip2Processor, Blip2ForConditionalGeneration\n",
    "import io\n",
    "\n",
    "app = Flask(__name__)\n",
    "\n",
    "# Load BLIP-2 model and processor\n",
    "device = \"cuda\" if torch.cuda.is_available() else \"cpu\"\n",
    "processor = Blip2Processor.from_pretrained(\"Salesforce/blip2-flan-t5-xl\")\n",
    "model = Blip2ForConditionalGeneration.from_pretrained(\n",
    "    \"Salesforce/blip2-flan-t5-xl\",\n",
    "    torch_dtype=torch.float16 if torch.cuda.is_available() else torch.float32,\n",
    ").to(device)\n",
    "\n",
    "# Generate caption from image\n",
    "def generate_caption(image):\n",
    "    prompt = \"What is the road damage in this image?\"\n",
    "    image = image.resize((512, 512))\n",
    "    inputs = processor(images=image, text=prompt, return_tensors=\"pt\").to(device)\n",
    "    output = model.generate(**inputs, max_new_tokens=100)\n",
    "    caption = processor.tokenizer.decode(output[0], skip_special_tokens=True).strip()\n",
    "    if caption.lower().strip() in [\"\", prompt.lower().strip()]:\n",
    "        caption = \"[Model failed to generate meaningful caption]\"\n",
    "    return caption\n",
    "\n",
    "# Rule-based summary\n",
    "def generate_summary(caption):\n",
    "    caption_lower = caption.lower()\n",
    "    if \"pothole\" in caption_lower:\n",
    "        return \"Pothole detected\", \"High\" if \"deep\" in caption_lower else \"Low\", \"Urgent\" if \"center\" in caption_lower else \"Low\"\n",
    "    elif \"crack\" in caption_lower:\n",
    "        return \"Crack detected\", \"Medium\" if \"long\" in caption_lower else \"Low\", \"Moderate\"\n",
    "    elif \"debris\" in caption_lower:\n",
    "        return \"Debris detected\", \"Low\", \"Moderate\"\n",
    "    elif \"blocked\" in caption_lower or \"collapsed\" in caption_lower:\n",
    "        return \"Roadblock detected\", \"High\", \"Critical\"\n",
    "    elif caption == \"[Model failed to generate meaningful caption]\":\n",
    "        return \"Unknown detected\", \"Unknown\", \"Unknown\"\n",
    "    else:\n",
    "        return \"No damage detected\", \"None\", \"None\"\n",
    "\n",
    "@app.route('/analyze', methods=['POST'])\n",
    "def analyze():\n",
    "    if 'image' not in request.files:\n",
    "        return jsonify({'error': 'No image uploaded'}), 400\n",
    "\n",
    "    file = request.files['image']\n",
    "    try:\n",
    "        image = Image.open(io.BytesIO(file.read())).convert(\"RGB\")\n",
    "        caption = generate_caption(image)\n",
    "        damage_type, severity, priority = generate_summary(caption)\n",
    "\n",
    "        # Combine summary into a single string\n",
    "        summary_text = f\"{damage_type}. Severity: {severity}. Priority: {priority}.\"\n",
    "\n",
    "        return jsonify({\n",
    "            'caption': caption,\n",
    "            'summary': summary_text  # Send summary as a string\n",
    "        })\n",
    "\n",
    "    except Exception as e:\n",
    "        return jsonify({'error': 'Failed to analyze image', 'details': str(e)}), 500\n"
   ]
  },
  {
   "cell_type": "code",
   "execution_count": null,
   "id": "61c503db",
   "metadata": {
    "vscode": {
     "languageId": "plaintext"
    }
   },
   "outputs": [],
   "source": [
    "!pip install pyngrok"
   ]
  },
  {
   "cell_type": "code",
   "execution_count": null,
   "id": "3d78b773",
   "metadata": {
    "vscode": {
     "languageId": "plaintext"
    }
   },
   "outputs": [],
   "source": [
    "from pyngrok import conf, ngrok\n",
    "\n",
    "# Replace this with your actual token\n",
    "conf.get_default().auth_token = \"2vdUtkrbYytKnnqmvVY3LFM6MvG_7kfvaoDVoXm9adX21wDtc\""
   ]
  },
  {
   "cell_type": "code",
   "execution_count": null,
   "id": "266e4d0c",
   "metadata": {
    "vscode": {
     "languageId": "plaintext"
    }
   },
   "outputs": [],
   "source": [
    "from flask import Flask\n",
    "from pyngrok import ngrok\n",
    "import os\n",
    "\n",
    "# Set environment variable for Flask app\n",
    "os.environ[\"FLASK_APP\"] = \"app.py\"\n",
    "\n",
    "# Kill any running tunnels\n",
    "ngrok.kill()\n",
    "\n",
    "# Open a tunnel on the default Flask port 5000\n",
    "public_url = ngrok.connect(5000)\n",
    "print(\"🚀 Public URL:\", public_url)\n",
    "\n",
    "# Start Flask app\n",
    "!flask run --host=0.0.0.0 --port=5000\n"
   ]
  }
 ],
 "metadata": {
  "language_info": {
   "name": "python"
  }
 },
 "nbformat": 4,
 "nbformat_minor": 5
}
